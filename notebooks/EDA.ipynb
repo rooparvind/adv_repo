{
 "cells": [
  {
   "cell_type": "markdown",
   "metadata": {},
   "source": [
    "Project Description:\n",
    "\n",
    "This project aims to analyze a dataset of used cars, focusing on data cleaning,  data analysis, and data extraction. The goal is to handle missing values, visualize key trends, and support decision-making related to car pricing and sales. We also identify factors that influence car prices\n",
    "based on model year, condition, and mileage."
   ]
  },
  {
   "cell_type": "code",
   "execution_count": null,
   "metadata": {},
   "outputs": [],
   "source": [
    "import pandas as pd\n"
   ]
  },
  {
   "cell_type": "code",
   "execution_count": null,
   "metadata": {},
   "outputs": [],
   "source": [
    "import plotly.express as px "
   ]
  },
  {
   "cell_type": "code",
   "execution_count": null,
   "metadata": {},
   "outputs": [],
   "source": [
    "df = pd.read_csv('vehicles_us.csv')"
   ]
  },
  {
   "cell_type": "code",
   "execution_count": null,
   "metadata": {},
   "outputs": [],
   "source": [
    "# Convert columns to numeric\n",
    "\n",
    "\n",
    "df[\"model_year\"] = pd.to_numeric(df[\"model_year\"], errors='coerce')\n",
    "df[\"odometer\"] = pd.to_numeric(df[\"odometer\"], errors='coerce')\n",
    "df[\"price\"] = pd.to_numeric(df[\"price\"], errors=\"coerce\")\n",
    "\n",
    "# Handle missing values and convert data types\n",
    "df[\"price\"].fillna(0, inplace=True)\n",
    "df[\"price\"] = df[\"price\"].astype(\"float32\")\n",
    "\n",
    "df['days_listed'] = df['days_listed'].fillna(0).astype('float32')\n",
    "df['model_year'] = df['model_year'].fillna(0).astype(\"Int64\")\n",
    "df['cylinders'] = df['cylinders'].fillna(0).astype(\"Int64\")\n",
    "df['odometer'] = df['odometer'].fillna(0).astype('float32')\n",
    "df['is_4wd'] = df['is_4wd'].fillna(0).astype(bool)  \n",
    "df['paint_color'] = df['paint_color'].fillna(\"unknown\")\n",
    "\n",
    "\n",
    "print(df.columns)\n",
    "print(df.dtypes)\n"
   ]
  },
  {
   "cell_type": "code",
   "execution_count": null,
   "metadata": {},
   "outputs": [],
   "source": [
    "\n",
    "print(df.info())"
   ]
  },
  {
   "cell_type": "code",
   "execution_count": null,
   "metadata": {},
   "outputs": [],
   "source": [
    "# Create histograms\n",
    "hist1 = px.histogram(df, x=\"price\", title=\"Distribution of Car Prices\")"
   ]
  },
  {
   "cell_type": "code",
   "execution_count": null,
   "metadata": {},
   "outputs": [],
   "source": [
    "# Create histograms\n",
    "hist2 = px.histogram(df, x=\"odometer\", title=\"Distribution of Odometer Readings\")"
   ]
  },
  {
   "cell_type": "code",
   "execution_count": null,
   "metadata": {},
   "outputs": [],
   "source": [
    "# Create scatter plots\n",
    "scatterplot1 = px.scatter(df, x=\"odometer\", y=\"price\", title=\"Price vs Odometer\")\n",
    "scatterplot2 = px.scatter(df, x=\"model_year\", y=\"price\", title=\"Price vs Model Year\")\n"
   ]
  },
  {
   "cell_type": "code",
   "execution_count": null,
   "metadata": {},
   "outputs": [],
   "source": [
    "# Show plots\n",
    "hist1.show()\n",
    "hist2.show()\n",
    "scatterplot1.show()\n",
    "scatterplot2.show()"
   ]
  },
  {
   "cell_type": "code",
   "execution_count": null,
   "metadata": {},
   "outputs": [],
   "source": [
    "# Fill missing 'is_4wd' with 0 and convert to bool\n",
    "df[\"is_4wd\"] = df[\"is_4wd\"].fillna(0).astype(bool)"
   ]
  },
  {
   "cell_type": "code",
   "execution_count": null,
   "metadata": {},
   "outputs": [],
   "source": [
    "# Fill missing 'paint_color' with 'unknown'\n",
    "df[\"paint_color\"] = df[\"paint_color\"].fillna(\"unknown\")\n"
   ]
  },
  {
   "cell_type": "code",
   "execution_count": null,
   "metadata": {},
   "outputs": [],
   "source": [
    "# Fill missing 'model_year' based on median per model\n",
    "df[\"model_year\"] = df.groupby(\"model\")[\"model_year\"].transform(lambda x: x.fillna(x.median()))\n"
   ]
  },
  {
   "cell_type": "code",
   "execution_count": null,
   "metadata": {},
   "outputs": [],
   "source": [
    "# Fill missing 'cylinders' based on median per vehicle type\n",
    "df[\"cylinders\"] = df.groupby(\"type\")[\"cylinders\"].transform(lambda x: x.fillna(x.median()))\n"
   ]
  },
  {
   "cell_type": "code",
   "execution_count": null,
   "metadata": {},
   "outputs": [],
   "source": [
    "# Fill missing 'odometer' based on median per model_year\n",
    "df[\"odometer\"] = df.groupby(\"model_year\")[\"odometer\"].transform(lambda x: x.fillna(x.median()))\n"
   ]
  },
  {
   "cell_type": "code",
   "execution_count": null,
   "metadata": {},
   "outputs": [],
   "source": [
    "# Display cleaned data\n",
    "print(df)"
   ]
  }
 ],
 "metadata": {
  "kernelspec": {
   "display_name": "base",
   "language": "python",
   "name": "python3"
  },
  "language_info": {
   "codemirror_mode": {
    "name": "ipython",
    "version": 3
   },
   "file_extension": ".py",
   "mimetype": "text/x-python",
   "name": "python",
   "nbconvert_exporter": "python",
   "pygments_lexer": "ipython3",
   "version": "3.12.7"
  }
 },
 "nbformat": 4,
 "nbformat_minor": 2
}
